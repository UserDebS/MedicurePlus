{
 "cells": [
  {
   "cell_type": "code",
   "execution_count": 31,
   "metadata": {},
   "outputs": [],
   "source": [
    "import numpy as np #1.24.4\n",
    "import os\n",
    "import cv2 #4.9.0\n",
    "from matplotlib import pyplot as plt\n",
    "import pickle as pkl\n",
    "import time as t\n",
    "np.random.seed(0)"
   ]
  },
  {
   "cell_type": "code",
   "execution_count": 32,
   "metadata": {},
   "outputs": [],
   "source": [
    "input_dataset = os.path.join(os.path.dirname(os.getcwd()), 'datasets')\n",
    "#input_dataset\n",
    "medicine_list = os.listdir(input_dataset)\n",
    "#medicine_list"
   ]
  },
  {
   "cell_type": "code",
   "execution_count": null,
   "metadata": {},
   "outputs": [],
   "source": [
    "a = np.array(cv2.resize(cv2.imread('c:/Users/PC/OneDrive/Desktop/MedicurePlus/Backend/datasets/Aspirin/1.png', cv2.IMREAD_GRAYSCALE), (128, 128)).flat)\n",
    "b = np.array(cv2.resize(cv2.imread('c:/Users/PC/OneDrive/Desktop/MedicurePlus/Backend/datasets/Aspirin/2.png', cv2.IMREAD_GRAYSCALE), (128, 128)).flat)\n",
    "inp_vec = np.array([a, b])"
   ]
  },
  {
   "cell_type": "code",
   "execution_count": null,
   "metadata": {},
   "outputs": [],
   "source": [
    "plt.imshow(cv2.imread('c:/Users/PC/OneDrive/Desktop/MedicurePlus/Backend/datasets/Aspirin/10.png'), cmap='gray')"
   ]
  },
  {
   "cell_type": "code",
   "execution_count": 33,
   "metadata": {},
   "outputs": [],
   "source": [
    "image_input_list = []\n",
    "image_output_list = []\n",
    "for dirpath, dirnames, filenames in os.walk(input_dataset):\n",
    "    for filename in filenames:\n",
    "        path = os.path.join(dirpath, filename)\n",
    "        if(os.path.isfile(path=path)):\n",
    "            image_input_list.append(np.array(cv2.resize(cv2.imread(path, cv2.IMREAD_GRAYSCALE), (128, 128)).flat))\n",
    "            image_output_list.append(dirpath.split('\\\\')[-1])"
   ]
  },
  {
   "cell_type": "code",
   "execution_count": null,
   "metadata": {},
   "outputs": [],
   "source": [
    "class NeuralNetwork:\n",
    "    def __init__(self) -> None:\n",
    "        self.layers = []\n",
    "        self.biases = []\n",
    "        self.iterator = []\n",
    "    \n",
    "    def addLayer(self, *args) -> None:\n",
    "        randomWeights = 0.01 * np.random.randn(*args)\n",
    "        biasLayer = 0.01 * np.random.randn(args[0], 1)\n",
    "        self.layers.append(randomWeights)\n",
    "        self.biases.append(biasLayer)\n",
    "\n",
    "    def RELU(self, inp):\n",
    "        return np.maximum(0, inp)\n",
    "    \n",
    "    def SoftMax(self):\n",
    "        exp_vals = np.exp(self.iterator[-1] - np.max(self.iterator[-1], axis=0, keepdims=True))\n",
    "        self.predicted = exp_vals / np.sum(exp_vals, axis=0, keepdims=True)\n",
    "    \n",
    "    def forward(self, inp : list[any]):\n",
    "        self.clearIt()\n",
    "        self.iterator.append(np.array(inp).T)\n",
    "        for layer, bias in zip(self.layers, self.biases):\n",
    "            self.iterator.append(self.RELU(np.dot(layer, self.iterator[-1]) + bias))\n",
    "        self.SoftMax()\n",
    "        return self.predicted\n",
    "    \n",
    "    def calculateLoss(self):\n",
    "        self.loss =  -np.sum(np.array(self.output_mat) * np.log(self.predicted + 1e-10), axis=0, keepdims=True)\n",
    "        return self.loss\n",
    "    \n",
    "    def calculateCost(self):\n",
    "        self.cost = np.mean(self.calculateLoss())\n",
    "        return self.cost\n",
    "    \n",
    "    def train(self, actual_inputs, classlist, actual_ouputs, epoach : int = 1):\n",
    "        self.encodedOuput(classlist=classlist, actual_output=actual_ouputs)\n",
    "        while(epoach > 0):\n",
    "            self.forward(actual_inputs)\n",
    "            self.backProp()\n",
    "            print(self.calculateCost())\n",
    "            epoach -= 1\n",
    "\n",
    "    def backProp(self):\n",
    "    # Calculate delta for the last layer (output layer)\n",
    "        delta = self.predicted - self.output_mat  # delta for output layer\n",
    "        grads_w = []\n",
    "        grads_b = []\n",
    "        \n",
    "        # Gradient for the last layer's weights\n",
    "        grad_w_L = np.dot(delta, self.iterator[-2].T)  # Layer 3 weight gradient\n",
    "        grads_w.append(grad_w_L)\n",
    "        \n",
    "        # Gradient for the last layer's bias\n",
    "        grad_b_L = np.sum(delta, axis=1, keepdims=True)\n",
    "        grads_b.append(grad_b_L)\n",
    "\n",
    "        # Update deltas for earlier layers\n",
    "        next_delta = delta\n",
    "        for l in range(len(self.layers) - 2, -1, -1):  # going backward through layers\n",
    "            # Gradient for weights and biases\n",
    "            next_delta = np.dot(self.layers[l + 1].T, next_delta) * (self.iterator[l + 1] > 0).astype(float)  # ReLU derivative\n",
    "            grad_w = np.dot(next_delta, self.iterator[l].T)\n",
    "            grad_b = np.sum(next_delta, axis=1, keepdims=True)\n",
    "            \n",
    "            grads_w.append(grad_w)\n",
    "            grads_b.append(grad_b)\n",
    "        \n",
    "        # Apply gradients in reverse order (to align with layer order)\n",
    "        grads_w = grads_w[::-1]\n",
    "        grads_b = grads_b[::-1]\n",
    "\n",
    "        for i in range(len(self.layers)):\n",
    "            self.layers[i] -= self.learningRate * grads_w[i]\n",
    "            self.biases[i] -= self.learningRate * grads_b[i]\n",
    "\n",
    "        \n",
    "    def setLearningRate(self, rate):\n",
    "        self.learningRate = rate\n",
    "\n",
    "    def encodedOuput(self, classlist, actual_output):\n",
    "        self.output_mat = np.equal(np.array(classlist).reshape(len(classlist), 1), np.array(actual_output).reshape(1, len(actual_output))).astype(float)\n",
    "        return self.output_mat\n",
    "    \n",
    "    def clearIt(self):\n",
    "        self.iterator.clear()\n",
    "    \n",
    "    def reset(self):\n",
    "        self.layers.clear()\n",
    "        self.biases.clear()\n",
    "        self.iterator.clear()\n"
   ]
  },
  {
   "cell_type": "code",
   "execution_count": null,
   "metadata": {},
   "outputs": [],
   "source": [
    "network = NeuralNetwork()\n",
    "network.addLayer(128, 128 * 128)\n",
    "network.addLayer(258, 128)\n",
    "network.addLayer(len(medicine_list), 258)\n",
    "network.setLearningRate(0.01)"
   ]
  },
  {
   "cell_type": "code",
   "execution_count": null,
   "metadata": {},
   "outputs": [],
   "source": [
    "network.train(image_input_list, medicine_list, image_output_list, 200)"
   ]
  },
  {
   "cell_type": "code",
   "execution_count": null,
   "metadata": {},
   "outputs": [],
   "source": [
    "network.setLearningRate(0.1)"
   ]
  },
  {
   "cell_type": "code",
   "execution_count": null,
   "metadata": {},
   "outputs": [],
   "source": [
    "with open('imageClassiferModel.pkl', 'wb') as f:\n",
    "    pkl.dump(network, f)"
   ]
  },
  {
   "cell_type": "code",
   "execution_count": null,
   "metadata": {},
   "outputs": [],
   "source": [
    "with open('imageClassiferModel.pkl', 'rb') as f:\n",
    "    imageClassifer : NeuralNetwork = pkl.load(f)\n",
    "    imageClassifer.setLearningRate(0.00001)\n",
    "    maxoutput = np.argmax(imageClassifer.forward(image_input_list), axis=0)\n",
    "print(maxoutput)"
   ]
  },
  {
   "cell_type": "code",
   "execution_count": 25,
   "metadata": {},
   "outputs": [],
   "source": [
    "import easyocr as eo"
   ]
  },
  {
   "cell_type": "code",
   "execution_count": null,
   "metadata": {},
   "outputs": [],
   "source": [
    "class ImageClassifier:\n",
    "    class Trie:\n",
    "        class Node:\n",
    "            def __init__(self, end : bool = False) -> None:\n",
    "                self.end = end\n",
    "                self.children = [None for i in range(38)]\n",
    "                \n",
    "        def __init__(self) -> None:\n",
    "            self.node = self.Node()\n",
    "            self.__similarityList = []\n",
    "        \n",
    "        def encrypt(self, ch : chr) -> int:\n",
    "            if(ch >= 'a' and ch <= 'z'):\n",
    "                return ord(ch) - ord('a')\n",
    "            elif(ch >= '0' and ch <= '9'):\n",
    "                return ord(ch) - ord('0') + 26\n",
    "            elif(ch == ' '):\n",
    "                return 36\n",
    "            elif(ch == '-'):\n",
    "                return 37\n",
    "        \n",
    "        def decrypt(self, ind : int) -> chr:\n",
    "            if(ind >= 0 and ind <= 25):\n",
    "                return chr(ind + ord('a'))\n",
    "            elif(ind >= 26 and ind <= 65):\n",
    "                return chr(ind - 26 + ord('0'))\n",
    "            elif(ind == 36):\n",
    "                return ' '\n",
    "            elif(ind == 37):\n",
    "                return '-'\n",
    "\n",
    "        def add(self, item : str):\n",
    "            item = item.lower()\n",
    "            cur = self.node\n",
    "            for index, letter in enumerate(item):\n",
    "                if(cur.children[(self.encrypt(letter))] != None):\n",
    "                    cur = cur.children[self.encrypt(letter)]\n",
    "                else:\n",
    "                    cur.children[self.encrypt(letter)] = self.Node(end = (index == len(item) - 1))\n",
    "                    cur = cur.children[self.encrypt(letter)]\n",
    "\n",
    "        def showSimilarities(self, item : str):\n",
    "            cur = self.node\n",
    "            for letter in item:\n",
    "                if(cur.children[(self.encrypt(letter))] != None):\n",
    "                    cur = cur.children[self.encrypt(letter)]\n",
    "            \n",
    "            self.__recursiveSearch(cur=cur, prev=item)\n",
    "            return self.__similarityList\n",
    "\n",
    "        def __recursiveSearch(self, cur : Node, prev : str = ''):\n",
    "            if(cur.end):\n",
    "                self.__similarityList.append(prev)\n",
    "            for index, node in enumerate(cur.children):\n",
    "                if(node is not None):\n",
    "                    self.__recursiveSearch(node, (prev + self.decrypt(index)))\n",
    "\n",
    "    def __init__(self) -> None:\n",
    "        self.__reader = eo.Reader(['en'])\n",
    "        self.__trie = self.Trie()\n",
    "    \n",
    "    def read(self, image):\n",
    "        self.matches = self.__reader.readtext(image=image)\n",
    "\n",
    "    def addClass(self, classInput : str | list[str]):\n",
    "        if(isinstance(classInput, str)):\n",
    "            self.__trie.add(classInput)\n",
    "            return\n",
    "        for cls in classInput:\n",
    "            self.__trie.add(cls)\n",
    "\n",
    "    def findSimilarity(self) -> list[str]:\n",
    "        pass"
   ]
  },
  {
   "cell_type": "code",
   "execution_count": 36,
   "metadata": {},
   "outputs": [
    {
     "name": "stderr",
     "output_type": "stream",
     "text": [
      "Neither CUDA nor MPS are available - defaulting to CPU. Note: This module is much faster with a GPU.\n"
     ]
    }
   ],
   "source": [
    "imageClassifier = ImageClassifier()\n",
    "imageClassifier.addClass(medicine_list)"
   ]
  },
  {
   "cell_type": "code",
   "execution_count": null,
   "metadata": {},
   "outputs": [
    {
     "ename": "AttributeError",
     "evalue": "'ImageClassifier' object has no attribute '__trie'",
     "output_type": "error",
     "traceback": [
      "\u001b[1;31m---------------------------------------------------------------------------\u001b[0m",
      "\u001b[1;31mAttributeError\u001b[0m                            Traceback (most recent call last)",
      "Cell \u001b[1;32mIn[37], line 1\u001b[0m\n\u001b[1;32m----> 1\u001b[0m \u001b[43mimageClassifier\u001b[49m\u001b[38;5;241;43m.\u001b[39;49m\u001b[43m__trie\u001b[49m\n",
      "\u001b[1;31mAttributeError\u001b[0m: 'ImageClassifier' object has no attribute '__trie'"
     ]
    }
   ],
   "source": []
  }
 ],
 "metadata": {
  "kernelspec": {
   "display_name": "Python 3",
   "language": "python",
   "name": "python3"
  },
  "language_info": {
   "codemirror_mode": {
    "name": "ipython",
    "version": 3
   },
   "file_extension": ".py",
   "mimetype": "text/x-python",
   "name": "python",
   "nbconvert_exporter": "python",
   "pygments_lexer": "ipython3",
   "version": "3.11.4"
  }
 },
 "nbformat": 4,
 "nbformat_minor": 2
}
